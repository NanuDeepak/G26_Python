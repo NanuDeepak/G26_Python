{
  "nbformat": 4,
  "nbformat_minor": 0,
  "metadata": {
    "colab": {
      "provenance": []
    },
    "kernelspec": {
      "name": "python3",
      "display_name": "Python 3"
    },
    "language_info": {
      "name": "python"
    }
  },
  "cells": [
    {
      "cell_type": "code",
      "source": [
        "import re\n",
        "def weak_password(password):\n",
        " common_patterns = [\"123456\", \"abc\", \"india\", \"abc123\"]\n",
        " for pattern in common_patterns:\n",
        "  if pattern in password:\n",
        "    return True\n",
        " return False\n",
        "def check_password_strength(password):\n",
        " length = len(password)\n",
        " has_uppercase = any(char.isupper() for char in password)\n",
        " has_lowercase = any(char.islower() for char in password)\n",
        " has_digit = any(char.isdigit() for char in password)\n",
        " has_special = any(char.isalnum() == False for char in password)\n",
        "\n",
        " strength = 0\n",
        " feedback = []\n",
        " if length >= 6:\n",
        "  strength += 1\n",
        " else:\n",
        "  feedback.append(\"Password should be at least 6 characters.\")\n",
        " if has_uppercase:\n",
        "  strength += 1\n",
        " else:\n",
        "  feedback.append(\"Include at least one uppercase.\")\n",
        " if has_lowercase:\n",
        "  strength += 1\n",
        " else:\n",
        "  feedback.append(\"Include at least one lowercase.\")\n",
        " if has_digit:\n",
        "  strength += 1\n",
        " else:\n",
        "  feedback.append(\"Include at least one digit.\")\n",
        " if has_special:\n",
        "  strength += 1\n",
        " else:\n",
        "  feedback.append(\"Include at least one special character.\")\n",
        " if weak_password(password):\n",
        "  strength = 0\n",
        " feedback.append(\"Avoid using common patterns.\")\n",
        " return strength, feedback\n",
        "def main():\n",
        " password = input(\"Enter your password: \")\n",
        " strength, feedback = check_password_strength(password)\n",
        " if strength >= 3:\n",
        "  print(\"Password is strong!\")\n",
        " else:\n",
        "  print(\"Password is weak. Please consider the following:\")\n",
        " for item in feedback:\n",
        "   print(\"- \" + item)\n",
        "if __name__ == \"__main__\":\n",
        " main()"
      ],
      "metadata": {
        "colab": {
          "base_uri": "https://localhost:8080/"
        },
        "id": "vgPx8eDbNPHA",
        "outputId": "32516878-502e-4632-ff5e-cefdc7e638a4"
      },
      "execution_count": 21,
      "outputs": [
        {
          "output_type": "stream",
          "name": "stdout",
          "text": [
            "Enter your password: Th@rani2002\n",
            "Password is strong!\n",
            "- Avoid using common patterns.\n"
          ]
        }
      ]
    }
  ]
}