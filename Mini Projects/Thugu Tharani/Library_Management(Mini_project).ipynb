{
  "nbformat": 4,
  "nbformat_minor": 0,
  "metadata": {
    "colab": {
      "provenance": []
    },
    "kernelspec": {
      "name": "python3",
      "display_name": "Python 3"
    },
    "language_info": {
      "name": "python"
    }
  },
  "cells": [
    {
      "cell_type": "code",
      "execution_count": 3,
      "metadata": {
        "colab": {
          "base_uri": "https://localhost:8080/"
        },
        "id": "MpflGZb0Kvve",
        "outputId": "f294fce3-4cfd-459b-affc-a52b9188c632"
      },
      "outputs": [
        {
          "output_type": "stream",
          "name": "stdout",
          "text": [
            "Books in the library:\n",
            "PYTHON\n",
            "C PROGRAMMING\n",
            "JAVA\n",
            "Searching for books by title:\n",
            "Sorting books by title:\n",
            "C PROGRAMMING\n",
            "JAVA\n",
            "PYTHON\n",
            "Check a book as borrowed:\n"
          ]
        }
      ],
      "source": [
        "books = []\n",
        "def add_book(title, author, year):\n",
        " books.append((title, author, year))\n",
        "def search_books(title):\n",
        " matching_books = []\n",
        " for book in books:\n",
        "  if title in book[0]:\n",
        "     matching_books.append(book)\n",
        " return matching_books\n",
        "def sort_books():\n",
        " books.sort(key=lambda book: book[0])\n",
        "def track_borrowed_book(year):\n",
        " for book in books:\n",
        "   if book[2] == \"C PROGRAMMING\":\n",
        "     book[2] = \"borrowed\"\n",
        "def display_books():\n",
        " for book in books:\n",
        "    print(f\"Title: {book[0]}, Author: {book[1]}, year: {book[2]}\")\n",
        "def main():\n",
        " add_book(\"PYTHON\", \"GUIDO VAN ROSSUM\", \"1991\")\n",
        " add_book(\"C PROGRAMMING\", \"DENNIS RITCHIE\", \"1970\")\n",
        " add_book(\"JAVA\", \"JAMES GOSLING\", \"1995\")\n",
        " print(\"Books in the library:\")\n",
        " for book in books:\n",
        "   print(book[0])\n",
        " print(\"Searching for books by title:\")\n",
        " matching_books = search_books(\"DATA SCIENE\")\n",
        " for book in matching_books:\n",
        "   print(book[0])\n",
        " print(\"Sorting books by title:\")\n",
        " sort_books()\n",
        " for book in books:\n",
        "   print(book[0])\n",
        " print(\"Check a book as borrowed:\")\n",
        " track_borrowed_book(\"1995\")\n",
        " for book in books:\n",
        "  if book[2] == \"borrowed\":\n",
        "    print(book[0], \"is borrowed\")\n",
        "if __name__ == \"__main__\":\n",
        " main()"
      ]
    }
  ]
}